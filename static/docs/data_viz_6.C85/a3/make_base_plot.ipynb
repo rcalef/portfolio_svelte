{
 "cells": [
  {
   "cell_type": "code",
   "execution_count": 2,
   "metadata": {},
   "outputs": [],
   "source": [
    "import os\n",
    "\n",
    "import pandas as pd\n",
    "import matplotlib.pyplot as plt\n",
    "import numpy as np\n",
    "import seaborn as sns\n"
   ]
  },
  {
   "cell_type": "code",
   "execution_count": 3,
   "metadata": {},
   "outputs": [],
   "source": [
    "path = \"/Users/rcalef/sandbox/courses/data_vis_6.C85/a3/\"\n",
    "\n",
    "data_path = os.path.join(path, \"census2000.csv\")"
   ]
  },
  {
   "cell_type": "code",
   "execution_count": 4,
   "metadata": {},
   "outputs": [],
   "source": [
    "def calc_quantiles(x, w, qs):\n",
    "    qs = np.array(qs)\n",
    "    tot = np.sum(w)\n",
    "    threshs = tot * qs\n",
    "\n",
    "    curr = 0\n",
    "    curr_tot = 0\n",
    "    prev_age = 0\n",
    "    prev_tot = 0\n",
    "    ret = []\n",
    "    for age, pop in zip(x, w):\n",
    "        curr_tot += pop\n",
    "        if curr_tot >= threshs[curr]:\n",
    "            interp = ((threshs[curr] - prev_tot) / (curr_tot - prev_tot)) * (age - prev_age)\n",
    "            ret.append(interp+prev_age)\n",
    "            curr += 1\n",
    "            if curr == len(threshs):\n",
    "                break\n",
    "        prev_age = age\n",
    "        prev_tot = curr_tot\n",
    "    return ret"
   ]
  },
  {
   "cell_type": "code",
   "execution_count": 5,
   "metadata": {},
   "outputs": [
    {
     "data": {
      "text/html": [
       "<div>\n",
       "<style scoped>\n",
       "    .dataframe tbody tr th:only-of-type {\n",
       "        vertical-align: middle;\n",
       "    }\n",
       "\n",
       "    .dataframe tbody tr th {\n",
       "        vertical-align: top;\n",
       "    }\n",
       "\n",
       "    .dataframe thead th {\n",
       "        text-align: right;\n",
       "    }\n",
       "</style>\n",
       "<table border=\"1\" class=\"dataframe\">\n",
       "  <thead>\n",
       "    <tr style=\"text-align: right;\">\n",
       "      <th></th>\n",
       "      <th>Sex</th>\n",
       "      <th>Year</th>\n",
       "      <th>Age</th>\n",
       "      <th>People</th>\n",
       "    </tr>\n",
       "  </thead>\n",
       "  <tbody>\n",
       "    <tr>\n",
       "      <th>0</th>\n",
       "      <td>Male</td>\n",
       "      <td>1900</td>\n",
       "      <td>0</td>\n",
       "      <td>4619544</td>\n",
       "    </tr>\n",
       "    <tr>\n",
       "      <th>1</th>\n",
       "      <td>Male</td>\n",
       "      <td>2000</td>\n",
       "      <td>0</td>\n",
       "      <td>9735380</td>\n",
       "    </tr>\n",
       "    <tr>\n",
       "      <th>2</th>\n",
       "      <td>Male</td>\n",
       "      <td>1900</td>\n",
       "      <td>5</td>\n",
       "      <td>4465783</td>\n",
       "    </tr>\n",
       "    <tr>\n",
       "      <th>3</th>\n",
       "      <td>Male</td>\n",
       "      <td>2000</td>\n",
       "      <td>5</td>\n",
       "      <td>10552146</td>\n",
       "    </tr>\n",
       "    <tr>\n",
       "      <th>4</th>\n",
       "      <td>Male</td>\n",
       "      <td>1900</td>\n",
       "      <td>10</td>\n",
       "      <td>4057669</td>\n",
       "    </tr>\n",
       "  </tbody>\n",
       "</table>\n",
       "</div>"
      ],
      "text/plain": [
       "    Sex  Year  Age    People\n",
       "0  Male  1900    0   4619544\n",
       "1  Male  2000    0   9735380\n",
       "2  Male  1900    5   4465783\n",
       "3  Male  2000    5  10552146\n",
       "4  Male  1900   10   4057669"
      ]
     },
     "execution_count": 5,
     "metadata": {},
     "output_type": "execute_result"
    }
   ],
   "source": [
    "df = (pd.read_csv(data_path)\n",
    "      .assign(\n",
    "          Sex=lambda x: np.where(x.Sex == 1,\n",
    "                                 \"Male\",\n",
    "                                 \"Female\"),\n",
    "      ))\n",
    "df.head()"
   ]
  },
  {
   "cell_type": "code",
   "execution_count": 6,
   "metadata": {},
   "outputs": [
    {
     "data": {
      "text/html": [
       "<div>\n",
       "<style scoped>\n",
       "    .dataframe tbody tr th:only-of-type {\n",
       "        vertical-align: middle;\n",
       "    }\n",
       "\n",
       "    .dataframe tbody tr th {\n",
       "        vertical-align: top;\n",
       "    }\n",
       "\n",
       "    .dataframe thead tr th {\n",
       "        text-align: left;\n",
       "    }\n",
       "</style>\n",
       "<table border=\"1\" class=\"dataframe\">\n",
       "  <thead>\n",
       "    <tr>\n",
       "      <th></th>\n",
       "      <th>Age</th>\n",
       "      <th colspan=\"2\" halign=\"left\">People</th>\n",
       "      <th>tot</th>\n",
       "    </tr>\n",
       "    <tr>\n",
       "      <th>Sex</th>\n",
       "      <th></th>\n",
       "      <th>Female</th>\n",
       "      <th>Male</th>\n",
       "      <th></th>\n",
       "    </tr>\n",
       "  </thead>\n",
       "  <tbody>\n",
       "    <tr>\n",
       "      <th>0</th>\n",
       "      <td>0</td>\n",
       "      <td>4589196</td>\n",
       "      <td>4619544</td>\n",
       "      <td>9208740</td>\n",
       "    </tr>\n",
       "    <tr>\n",
       "      <th>1</th>\n",
       "      <td>5</td>\n",
       "      <td>4390483</td>\n",
       "      <td>4465783</td>\n",
       "      <td>8856266</td>\n",
       "    </tr>\n",
       "    <tr>\n",
       "      <th>2</th>\n",
       "      <td>10</td>\n",
       "      <td>4001749</td>\n",
       "      <td>4057669</td>\n",
       "      <td>8059418</td>\n",
       "    </tr>\n",
       "    <tr>\n",
       "      <th>3</th>\n",
       "      <td>15</td>\n",
       "      <td>3801743</td>\n",
       "      <td>3774846</td>\n",
       "      <td>7576589</td>\n",
       "    </tr>\n",
       "    <tr>\n",
       "      <th>4</th>\n",
       "      <td>20</td>\n",
       "      <td>3751061</td>\n",
       "      <td>3694038</td>\n",
       "      <td>7445099</td>\n",
       "    </tr>\n",
       "  </tbody>\n",
       "</table>\n",
       "</div>"
      ],
      "text/plain": [
       "    Age   People               tot\n",
       "Sex       Female     Male         \n",
       "0     0  4589196  4619544  9208740\n",
       "1     5  4390483  4465783  8856266\n",
       "2    10  4001749  4057669  8059418\n",
       "3    15  3801743  3774846  7576589\n",
       "4    20  3751061  3694038  7445099"
      ]
     },
     "execution_count": 6,
     "metadata": {},
     "output_type": "execute_result"
    }
   ],
   "source": [
    "df_1900 = (pd.pivot(df\n",
    "                   .query(\"Year == 1900\")\n",
    "                   .drop(columns=[\"Year\"]),\n",
    "                   columns=\"Sex\",\n",
    "                   index=\"Age\")\n",
    "          .assign(tot=lambda x: x.sum(axis=1))\n",
    "          .reset_index()\n",
    "       )\n",
    "df_1900.head()"
   ]
  },
  {
   "cell_type": "code",
   "execution_count": 7,
   "metadata": {},
   "outputs": [
    {
     "data": {
      "text/plain": [
       "array([0.1, 0.2, 0.3, 0.4, 0.5, 0.6, 0.7, 0.8, 0.9])"
      ]
     },
     "execution_count": 7,
     "metadata": {},
     "output_type": "execute_result"
    }
   ],
   "source": [
    "qs = np.linspace(0.1, 0.9, num=9)\n",
    "qs"
   ]
  },
  {
   "cell_type": "code",
   "execution_count": 14,
   "metadata": {},
   "outputs": [
    {
     "data": {
      "text/plain": [
       "[4.140784787060988,\n",
       " 8.412174047166154,\n",
       " 12.986468936094395,\n",
       " 17.890947628279694,\n",
       " 22.97537850067541,\n",
       " 28.48026168031327,\n",
       " 35.0284934418924,\n",
       " 43.13292907244325,\n",
       " 54.218608564008484]"
      ]
     },
     "execution_count": 14,
     "metadata": {},
     "output_type": "execute_result"
    }
   ],
   "source": [
    "qs_1900 = calc_quantiles(df_1900.Age+5, df_1900.tot, qs)\n",
    "qs_1900"
   ]
  },
  {
   "cell_type": "code",
   "execution_count": 15,
   "metadata": {},
   "outputs": [
    {
     "data": {
      "text/html": [
       "<div>\n",
       "<style scoped>\n",
       "    .dataframe tbody tr th:only-of-type {\n",
       "        vertical-align: middle;\n",
       "    }\n",
       "\n",
       "    .dataframe tbody tr th {\n",
       "        vertical-align: top;\n",
       "    }\n",
       "\n",
       "    .dataframe thead tr th {\n",
       "        text-align: left;\n",
       "    }\n",
       "</style>\n",
       "<table border=\"1\" class=\"dataframe\">\n",
       "  <thead>\n",
       "    <tr>\n",
       "      <th></th>\n",
       "      <th>Age</th>\n",
       "      <th colspan=\"2\" halign=\"left\">People</th>\n",
       "      <th>tot</th>\n",
       "    </tr>\n",
       "    <tr>\n",
       "      <th>Sex</th>\n",
       "      <th></th>\n",
       "      <th>Female</th>\n",
       "      <th>Male</th>\n",
       "      <th></th>\n",
       "    </tr>\n",
       "  </thead>\n",
       "  <tbody>\n",
       "    <tr>\n",
       "      <th>0</th>\n",
       "      <td>0</td>\n",
       "      <td>9310714</td>\n",
       "      <td>9735380</td>\n",
       "      <td>19046094</td>\n",
       "    </tr>\n",
       "    <tr>\n",
       "      <th>1</th>\n",
       "      <td>5</td>\n",
       "      <td>10069564</td>\n",
       "      <td>10552146</td>\n",
       "      <td>20621710</td>\n",
       "    </tr>\n",
       "    <tr>\n",
       "      <th>2</th>\n",
       "      <td>10</td>\n",
       "      <td>10022524</td>\n",
       "      <td>10563233</td>\n",
       "      <td>20585757</td>\n",
       "    </tr>\n",
       "    <tr>\n",
       "      <th>3</th>\n",
       "      <td>15</td>\n",
       "      <td>9692669</td>\n",
       "      <td>10237419</td>\n",
       "      <td>19930088</td>\n",
       "    </tr>\n",
       "    <tr>\n",
       "      <th>4</th>\n",
       "      <td>20</td>\n",
       "      <td>9324244</td>\n",
       "      <td>9731315</td>\n",
       "      <td>19055559</td>\n",
       "    </tr>\n",
       "  </tbody>\n",
       "</table>\n",
       "</div>"
      ],
      "text/plain": [
       "    Age    People                 tot\n",
       "Sex        Female      Male          \n",
       "0     0   9310714   9735380  19046094\n",
       "1     5  10069564  10552146  20621710\n",
       "2    10  10022524  10563233  20585757\n",
       "3    15   9692669  10237419  19930088\n",
       "4    20   9324244   9731315  19055559"
      ]
     },
     "execution_count": 15,
     "metadata": {},
     "output_type": "execute_result"
    }
   ],
   "source": [
    "df_2000 = (pd.pivot(df\n",
    "                   .query(\"Year == 2000\")\n",
    "                   .drop(columns=[\"Year\"]),\n",
    "                   columns=\"Sex\",\n",
    "                   index=\"Age\")\n",
    "          .assign(tot=lambda x: x.sum(axis=1))\n",
    "            .reset_index()\n",
    "            )\n",
    "df_2000.head()"
   ]
  },
  {
   "cell_type": "code",
   "execution_count": 16,
   "metadata": {},
   "outputs": [
    {
     "data": {
      "text/plain": [
       "[7.20543730369596,\n",
       " 14.035882527905096,\n",
       " 21.113209562626846,\n",
       " 28.475096151840653,\n",
       " 35.42576912753757,\n",
       " 41.53432205860625,\n",
       " 48.05466701383352,\n",
       " 56.07217135575677,\n",
       " 68.6931662757967]"
      ]
     },
     "execution_count": 16,
     "metadata": {},
     "output_type": "execute_result"
    }
   ],
   "source": [
    "qs_2000 = calc_quantiles(df_2000.Age+5, df_2000.tot, qs)\n",
    "qs_2000"
   ]
  },
  {
   "cell_type": "code",
   "execution_count": 17,
   "metadata": {},
   "outputs": [
    {
     "data": {
      "text/html": [
       "<div>\n",
       "<style scoped>\n",
       "    .dataframe tbody tr th:only-of-type {\n",
       "        vertical-align: middle;\n",
       "    }\n",
       "\n",
       "    .dataframe tbody tr th {\n",
       "        vertical-align: top;\n",
       "    }\n",
       "\n",
       "    .dataframe thead th {\n",
       "        text-align: right;\n",
       "    }\n",
       "</style>\n",
       "<table border=\"1\" class=\"dataframe\">\n",
       "  <thead>\n",
       "    <tr style=\"text-align: right;\">\n",
       "      <th></th>\n",
       "      <th>q</th>\n",
       "      <th>q_1900</th>\n",
       "      <th>q_2000</th>\n",
       "    </tr>\n",
       "  </thead>\n",
       "  <tbody>\n",
       "    <tr>\n",
       "      <th>0</th>\n",
       "      <td>0.1</td>\n",
       "      <td>4.140785</td>\n",
       "      <td>7.205437</td>\n",
       "    </tr>\n",
       "    <tr>\n",
       "      <th>1</th>\n",
       "      <td>0.2</td>\n",
       "      <td>8.412174</td>\n",
       "      <td>14.035883</td>\n",
       "    </tr>\n",
       "    <tr>\n",
       "      <th>2</th>\n",
       "      <td>0.3</td>\n",
       "      <td>12.986469</td>\n",
       "      <td>21.113210</td>\n",
       "    </tr>\n",
       "    <tr>\n",
       "      <th>3</th>\n",
       "      <td>0.4</td>\n",
       "      <td>17.890948</td>\n",
       "      <td>28.475096</td>\n",
       "    </tr>\n",
       "    <tr>\n",
       "      <th>4</th>\n",
       "      <td>0.5</td>\n",
       "      <td>22.975379</td>\n",
       "      <td>35.425769</td>\n",
       "    </tr>\n",
       "    <tr>\n",
       "      <th>5</th>\n",
       "      <td>0.6</td>\n",
       "      <td>28.480262</td>\n",
       "      <td>41.534322</td>\n",
       "    </tr>\n",
       "    <tr>\n",
       "      <th>6</th>\n",
       "      <td>0.7</td>\n",
       "      <td>35.028493</td>\n",
       "      <td>48.054667</td>\n",
       "    </tr>\n",
       "    <tr>\n",
       "      <th>7</th>\n",
       "      <td>0.8</td>\n",
       "      <td>43.132929</td>\n",
       "      <td>56.072171</td>\n",
       "    </tr>\n",
       "    <tr>\n",
       "      <th>8</th>\n",
       "      <td>0.9</td>\n",
       "      <td>54.218609</td>\n",
       "      <td>68.693166</td>\n",
       "    </tr>\n",
       "  </tbody>\n",
       "</table>\n",
       "</div>"
      ],
      "text/plain": [
       "     q     q_1900     q_2000\n",
       "0  0.1   4.140785   7.205437\n",
       "1  0.2   8.412174  14.035883\n",
       "2  0.3  12.986469  21.113210\n",
       "3  0.4  17.890948  28.475096\n",
       "4  0.5  22.975379  35.425769\n",
       "5  0.6  28.480262  41.534322\n",
       "6  0.7  35.028493  48.054667\n",
       "7  0.8  43.132929  56.072171\n",
       "8  0.9  54.218609  68.693166"
      ]
     },
     "execution_count": 17,
     "metadata": {},
     "output_type": "execute_result"
    }
   ],
   "source": [
    "qs_df = pd.DataFrame({\n",
    "    \"q\": qs,\n",
    "    \"q_1900\": qs_1900,\n",
    "    \"q_2000\": qs_2000,\n",
    "})\n",
    "qs_df"
   ]
  },
  {
   "cell_type": "code",
   "execution_count": 30,
   "metadata": {},
   "outputs": [
    {
     "data": {
      "text/html": [
       "<div>\n",
       "<style scoped>\n",
       "    .dataframe tbody tr th:only-of-type {\n",
       "        vertical-align: middle;\n",
       "    }\n",
       "\n",
       "    .dataframe tbody tr th {\n",
       "        vertical-align: top;\n",
       "    }\n",
       "\n",
       "    .dataframe thead tr th {\n",
       "        text-align: left;\n",
       "    }\n",
       "</style>\n",
       "<table border=\"1\" class=\"dataframe\">\n",
       "  <thead>\n",
       "    <tr>\n",
       "      <th></th>\n",
       "      <th>Age</th>\n",
       "      <th colspan=\"2\" halign=\"left\">People</th>\n",
       "      <th>tot</th>\n",
       "    </tr>\n",
       "    <tr>\n",
       "      <th>Sex</th>\n",
       "      <th></th>\n",
       "      <th>Female</th>\n",
       "      <th>Male</th>\n",
       "      <th></th>\n",
       "    </tr>\n",
       "  </thead>\n",
       "  <tbody>\n",
       "    <tr>\n",
       "      <th>14</th>\n",
       "      <td>70</td>\n",
       "      <td>5184855</td>\n",
       "      <td>3792145</td>\n",
       "      <td>8977000</td>\n",
       "    </tr>\n",
       "    <tr>\n",
       "      <th>15</th>\n",
       "      <td>75</td>\n",
       "      <td>4355644</td>\n",
       "      <td>2912655</td>\n",
       "      <td>7268299</td>\n",
       "    </tr>\n",
       "    <tr>\n",
       "      <th>16</th>\n",
       "      <td>80</td>\n",
       "      <td>3221898</td>\n",
       "      <td>1902638</td>\n",
       "      <td>5124536</td>\n",
       "    </tr>\n",
       "    <tr>\n",
       "      <th>17</th>\n",
       "      <td>85</td>\n",
       "      <td>1981156</td>\n",
       "      <td>970357</td>\n",
       "      <td>2951513</td>\n",
       "    </tr>\n",
       "    <tr>\n",
       "      <th>18</th>\n",
       "      <td>90</td>\n",
       "      <td>1064581</td>\n",
       "      <td>336303</td>\n",
       "      <td>1400884</td>\n",
       "    </tr>\n",
       "  </tbody>\n",
       "</table>\n",
       "</div>"
      ],
      "text/plain": [
       "    Age   People               tot\n",
       "Sex       Female     Male         \n",
       "14   70  5184855  3792145  8977000\n",
       "15   75  4355644  2912655  7268299\n",
       "16   80  3221898  1902638  5124536\n",
       "17   85  1981156   970357  2951513\n",
       "18   90  1064581   336303  1400884"
      ]
     },
     "execution_count": 30,
     "metadata": {},
     "output_type": "execute_result"
    }
   ],
   "source": [
    "df_2000.tail()"
   ]
  },
  {
   "cell_type": "code",
   "execution_count": 18,
   "metadata": {},
   "outputs": [
    {
     "data": {
      "text/plain": [
       "[<matplotlib.lines.Line2D at 0x16735de10>]"
      ]
     },
     "execution_count": 18,
     "metadata": {},
     "output_type": "execute_result"
    },
    {
     "data": {
      "image/png": "[encoded data removed]",
      "text/plain": [
       "<Figure size 640x480 with 1 Axes>"
      ]
     },
     "metadata": {},
     "output_type": "display_data"
    }
   ],
   "source": [
    "sns.scatterplot(x=\"q_1900\", y=\"q_2000\", hue=\"q\", data = qs_df)\n",
    "plt.plot([0, 60], [0, 60], '--')"
   ]
  },
  {
   "cell_type": "code",
   "execution_count": 19,
   "metadata": {},
   "outputs": [
    {
     "data": {
      "text/plain": [
       "[<matplotlib.lines.Line2D at 0x1671a9a90>]"
      ]
     },
     "execution_count": 19,
     "metadata": {},
     "output_type": "execute_result"
    },
    {
     "data": {
      "image/png": "[encoded data removed]",
      "text/plain": [
       "<Figure size 640x480 with 1 Axes>"
      ]
     },
     "metadata": {},
     "output_type": "display_data"
    }
   ],
   "source": [
    "plt.scatter(qs_1900, qs_2000)\n",
    "plt.plot([0, 60], [0, 60], '--')\n"
   ]
  },
  {
   "cell_type": "code",
   "execution_count": 21,
   "metadata": {},
   "outputs": [
    {
     "data": {
      "text/html": [
       "<div>\n",
       "<style scoped>\n",
       "    .dataframe tbody tr th:only-of-type {\n",
       "        vertical-align: middle;\n",
       "    }\n",
       "\n",
       "    .dataframe tbody tr th {\n",
       "        vertical-align: top;\n",
       "    }\n",
       "\n",
       "    .dataframe thead th {\n",
       "        text-align: right;\n",
       "    }\n",
       "</style>\n",
       "<table border=\"1\" class=\"dataframe\">\n",
       "  <thead>\n",
       "    <tr style=\"text-align: right;\">\n",
       "      <th></th>\n",
       "      <th>q</th>\n",
       "      <th>q_1900</th>\n",
       "      <th>q_2000</th>\n",
       "    </tr>\n",
       "  </thead>\n",
       "  <tbody>\n",
       "    <tr>\n",
       "      <th>4</th>\n",
       "      <td>0.5</td>\n",
       "      <td>22.975379</td>\n",
       "      <td>35.425769</td>\n",
       "    </tr>\n",
       "  </tbody>\n",
       "</table>\n",
       "</div>"
      ],
      "text/plain": [
       "     q     q_1900     q_2000\n",
       "4  0.5  22.975379  35.425769"
      ]
     },
     "execution_count": 21,
     "metadata": {},
     "output_type": "execute_result"
    }
   ],
   "source": [
    "qs_df.query(\"q == 0.5\")"
   ]
  },
  {
   "cell_type": "code",
   "execution_count": 34,
   "metadata": {},
   "outputs": [
    {
     "data": {
      "image/png": "[encoded data removed]",
      "text/plain": [
       "<Figure size 800x1200 with 1 Axes>"
      ]
     },
     "metadata": {},
     "output_type": "display_data"
    }
   ],
   "source": [
    "fig = plt.figure(figsize=(8, 12))\n",
    "ax = plt.gca()\n",
    "\n",
    "sexes = [\"Female\", \"Male\"]\n",
    "buff = 0\n",
    "left = np.zeros(len(df_1900)) + buff\n",
    "right = np.zeros(len(df_2000)) - buff\n",
    "artists = []\n",
    "for sex in sexes:\n",
    "    color = \"#FFB000\" if sex == 'Male' else \"#785EF0\"\n",
    "    ax.barh(y=df_2000.Age+2, width=df_2000.People[sex], height=4, left=left, color=color, alpha=0.5)\n",
    "#    ax.barh(y=df_2000.Age+2, width=df_2000.People[sex], height=4, left=left, color=color, alpha=0.5, hatch=\".\")\n",
    "\n",
    "    left += df_2000.People[sex]\n",
    "\n",
    "    artist = ax.barh(y=df_1900.Age+2, width=df_1900.People[sex], height=4, left=right-df_1900.People[sex], color=color, alpha=0.5)\n",
    "    artists.append(artist)\n",
    "    right -= df_1900.People[sex]\n",
    "\n",
    "plt.legend(artists, sexes, title=\"Sex$^*$\")\n",
    "plt.axvline(x=0, color=\"black\")\n",
    "\n",
    "xmin, xmax = plt.xlim()\n",
    "plt.xlim(-xmax, xmax)\n",
    "\n",
    "\n",
    "locs, labels = plt.xticks()\n",
    "labels = [f\"{abs(int(l.get_position()[0]/1e6))}M\" for l in labels]\n",
    "plt.xticks(locs, labels)\n",
    "\n",
    "ax.yaxis.set_label_position(\"right\")\n",
    "ax.yaxis.tick_right()\n",
    "\n",
    "locs, labels = plt.yticks()\n",
    "pos = [int(l.get_position()[1]) for l in labels]\n",
    "labels = [\"90+\" if p == 90 else f\"{p}-{p+4}\" for p in pos]\n",
    "\n",
    "plt.yticks(locs, labels)\n",
    "\n",
    "\n",
    "plt.hlines(y=[23, 35], xmin=[-xmax, 0], xmax=[0, xmax], linestyles=\"dashed\", colors=\"black\")\n",
    "plt.hlines(y=[47, 77], xmin=[-xmax, 0], xmax=[0, xmax], linestyles=\"solid\", colors=\"black\")\n",
    "\n",
    "\n",
    "plt.xlabel(\"Number of people\")\n",
    "plt.ylabel(\"Age\", rotation=\"horizontal\")\n",
    "\n",
    "ax.set_axisbelow(True)\n",
    "plt.grid(axis=\"x\", zorder=0)\n",
    "plt.tight_layout()\n",
    "\n",
    "plt.savefig(\"base_plot.jpeg\",dpi=500)"
   ]
  },
  {
   "cell_type": "code",
   "execution_count": null,
   "metadata": {},
   "outputs": [],
   "source": []
  }
 ],
 "metadata": {
  "kernelspec": {
   "display_name": "base",
   "language": "python",
   "name": "python3"
  },
  "language_info": {
   "codemirror_mode": {
    "name": "ipython",
    "version": 3
   },
   "file_extension": ".py",
   "mimetype": "text/x-python",
   "name": "python",
   "nbconvert_exporter": "python",
   "pygments_lexer": "ipython3",
   "version": "3.11.4"
  }
 },
 "nbformat": 4,
 "nbformat_minor": 2
}
